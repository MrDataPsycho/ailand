{
 "cells": [
  {
   "cell_type": "code",
   "execution_count": 3,
   "id": "236e2576",
   "metadata": {},
   "outputs": [],
   "source": [
    "from ailand.utils.settings.core import AOAICerteSettings, AOAIEndpointSettings\n",
    "from pathlib import Path\n",
    "from ailand.utils.logging import set_quiet_mode_for_third_party_logging"
   ]
  },
  {
   "cell_type": "code",
   "execution_count": 4,
   "id": "4e05a93b",
   "metadata": {},
   "outputs": [
    {
     "name": "stderr",
     "output_type": "stream",
     "text": [
      "2025-09-13 18:29:53,636 - root - INFO - Disabled verbose logging for: azure.core.pipeline.policies.http_logging_policy, azure.identity, azure.core.pipeline, msal, urllib3.connectionpool, httpx\n"
     ]
    }
   ],
   "source": [
    "set_quiet_mode_for_third_party_logging()"
   ]
  },
  {
   "cell_type": "code",
   "execution_count": 5,
   "id": "79535635",
   "metadata": {},
   "outputs": [],
   "source": [
    "ENVFILE = Path().absolute().parent / \".envs\" / \"local.env\""
   ]
  },
  {
   "cell_type": "code",
   "execution_count": 6,
   "id": "d8dd1096",
   "metadata": {},
   "outputs": [],
   "source": [
    "cert_settings = AOAICerteSettings.from_env_file(ENVFILE)\n",
    "aoai_endpoint_setting = AOAIEndpointSettings.from_env_file(ENVFILE)"
   ]
  },
  {
   "cell_type": "code",
   "execution_count": 7,
   "id": "54b3f8f6",
   "metadata": {},
   "outputs": [],
   "source": [
    "from ailand.utils.auth.azure_identity import get_cert_token_provider\n",
    "from openai import AzureOpenAI\n",
    "from ailand.utils.clients.openai.catalog import APIVersion, ChatModelSelection\n",
    "\n",
    "# Create a token provider using the certificate data\n",
    "token_provider = get_cert_token_provider(cert_settings)\n",
    "\n",
    "# Initialize the Azure OpenAI client with the token provider\n",
    "client = AzureOpenAI(\n",
    "    azure_endpoint=aoai_endpoint_setting.OPENAI_API_BASE_DEFAULT,\n",
    "    api_version=APIVersion.DEFAULT,\n",
    "    azure_ad_token_provider=token_provider\n",
    ")"
   ]
  },
  {
   "cell_type": "code",
   "execution_count": 8,
   "id": "453436f5",
   "metadata": {},
   "outputs": [],
   "source": [
    "SYSTEM_PROMPT = {\n",
    "    \"role\": \"system\", \n",
    "    \"content\": \"You are a helpful assistant that helps people find information about AI but ignoore any other topics.\"\n",
    "}"
   ]
  },
  {
   "cell_type": "code",
   "execution_count": 9,
   "id": "e3bc3350",
   "metadata": {},
   "outputs": [
    {
     "data": {
      "text/plain": [
       "\"I'm here to help with questions about AI. If you have any questions related to artificial intelligence, feel free to ask!\""
      ]
     },
     "execution_count": 9,
     "metadata": {},
     "output_type": "execute_result"
    }
   ],
   "source": [
    "response = client.chat.completions.create(\n",
    "    model=ChatModelSelection.GPT4_1_MINI,\n",
    "    messages=[SYSTEM_PROMPT, {\"role\": \"user\", \"content\": \"Can you tell me what is the letest trend in Fashion\"}]\n",
    ")\n",
    "response.choices[0].message.content"
   ]
  },
  {
   "cell_type": "code",
   "execution_count": 10,
   "id": "12770616",
   "metadata": {},
   "outputs": [],
   "source": [
    "from ailand.utils.clients.openai.chat import AzureOpenAIChatClient\n",
    "from ailand.utils.clients.openai.catalog import APIVersion, ChatModelSelection\n"
   ]
  },
  {
   "cell_type": "code",
   "execution_count": 11,
   "id": "57fe10fc",
   "metadata": {},
   "outputs": [],
   "source": [
    "token = token_provider()"
   ]
  },
  {
   "cell_type": "code",
   "execution_count": 12,
   "id": "3459f0af",
   "metadata": {},
   "outputs": [],
   "source": [
    "client = AzureOpenAIChatClient(\n",
    "    model=ChatModelSelection.GPT4_1_MINI,\n",
    "    api_version=APIVersion.DEFAULT,\n",
    "    endpoint=aoai_endpoint_setting.OPENAI_API_BASE_DEFAULT,\n",
    "    azure_ad_token=token\n",
    ")"
   ]
  },
  {
   "cell_type": "code",
   "execution_count": 13,
   "id": "47790473",
   "metadata": {},
   "outputs": [
    {
     "name": "stderr",
     "output_type": "stream",
     "text": [
      "2025-09-13 18:29:56,619 - ailand.utils.clients.openai.chat - INFO - [SYNC] Model=gpt-4.1-mini\n"
     ]
    },
    {
     "data": {
      "text/plain": [
       "'I’m here to help with information about AI. If you have any questions related to artificial intelligence, feel free to ask!'"
      ]
     },
     "execution_count": 13,
     "metadata": {},
     "output_type": "execute_result"
    }
   ],
   "source": [
    "client.chat(messages=[SYSTEM_PROMPT, {\"role\": \"user\", \"content\": \"Can you tell me what is the letest trend in Fashion\"}])"
   ]
  },
  {
   "cell_type": "code",
   "execution_count": 14,
   "id": "d0744440",
   "metadata": {},
   "outputs": [
    {
     "name": "stderr",
     "output_type": "stream",
     "text": [
      "2025-09-13 18:29:57,685 - ailand.utils.clients.openai.chat - INFO - [ASYNC] Model=gpt-4.1-mini\n"
     ]
    },
    {
     "data": {
      "text/plain": [
       "'I’m here to help with information about AI. If you have any questions related to artificial intelligence, feel free to ask!'"
      ]
     },
     "execution_count": 14,
     "metadata": {},
     "output_type": "execute_result"
    }
   ],
   "source": [
    "await client.chat_async(messages=[SYSTEM_PROMPT, {\"role\": \"user\", \"content\": \"Can you tell me what is the letest trend in Fashion\"}])"
   ]
  }
 ],
 "metadata": {
  "kernelspec": {
   "display_name": "cnp",
   "language": "python",
   "name": "python3"
  },
  "language_info": {
   "codemirror_mode": {
    "name": "ipython",
    "version": 3
   },
   "file_extension": ".py",
   "mimetype": "text/x-python",
   "name": "python",
   "nbconvert_exporter": "python",
   "pygments_lexer": "ipython3",
   "version": "3.13.5"
  }
 },
 "nbformat": 4,
 "nbformat_minor": 5
}
