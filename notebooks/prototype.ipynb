{
 "cells": [
  {
   "cell_type": "code",
   "execution_count": 1,
   "id": "236e2576",
   "metadata": {},
   "outputs": [],
   "source": [
    "from cnlib.utils.settings.core import AOAISettings\n",
    "from pathlib import Path"
   ]
  },
  {
   "cell_type": "code",
   "execution_count": 2,
   "id": "79535635",
   "metadata": {},
   "outputs": [],
   "source": [
    "ENVFILE = Path().absolute().parent / \".envs\" / \"dev.env\""
   ]
  },
  {
   "cell_type": "code",
   "execution_count": 3,
   "id": "d8dd1096",
   "metadata": {},
   "outputs": [],
   "source": [
    "settings = AOAISettings.from_env_file(ENVFILE)"
   ]
  },
  {
   "cell_type": "code",
   "execution_count": 4,
   "id": "3da06708",
   "metadata": {},
   "outputs": [
    {
     "data": {
      "text/plain": [
       "'https://cognitiveservices.azure.com/.default'"
      ]
     },
     "execution_count": 4,
     "metadata": {},
     "output_type": "execute_result"
    }
   ],
   "source": [
    "settings.RESOURCE"
   ]
  },
  {
   "cell_type": "markdown",
   "id": "91028fb0",
   "metadata": {},
   "source": [
    "# Using the Certificate Token Provider\n",
    "\n",
    "This example shows how to use the new `get_cert_token_provider` function to create a token provider that can be used with the Azure OpenAI client."
   ]
  },
  {
   "cell_type": "code",
   "execution_count": 5,
   "id": "e34cc188",
   "metadata": {},
   "outputs": [
    {
     "data": {
      "text/plain": [
       "'https://cognitiveservices.azure.com/.default'"
      ]
     },
     "execution_count": 5,
     "metadata": {},
     "output_type": "execute_result"
    }
   ],
   "source": [
    "settings.RESOURCE"
   ]
  },
  {
   "cell_type": "code",
   "execution_count": 6,
   "id": "54b3f8f6",
   "metadata": {},
   "outputs": [],
   "source": [
    "from cnlib.utils.auth.azure_identity import get_cert_token_provider\n",
    "from openai import AzureOpenAI\n",
    "from cnlib.core.clients.openai.catalog import APIVersion, ChatModelSelection\n",
    "\n",
    "# Create a token provider using the certificate data\n",
    "token_provider = get_cert_token_provider(\n",
    "    tenant_id=settings.TENANT_ID,\n",
    "    client_id=settings.CLIENT_ID,\n",
    "    certificate_data=settings.certificate_string,\n",
    ")\n",
    "\n",
    "# Initialize the Azure OpenAI client with the token provider\n",
    "client = AzureOpenAI(\n",
    "    azure_endpoint=settings.OPENAI_API_BASE,\n",
    "    api_version=APIVersion.LATEST,\n",
    "    azure_ad_token_provider=token_provider\n",
    ")"
   ]
  },
  {
   "cell_type": "code",
   "execution_count": 14,
   "id": "453436f5",
   "metadata": {},
   "outputs": [],
   "source": [
    "SYSTEM_PROMPT = {\"role\": \"system\", \"content\": \"You are a helpful assistant that helps people find information about AI but ignoore any other topics.\"}"
   ]
  },
  {
   "cell_type": "code",
   "execution_count": 9,
   "id": "e3bc3350",
   "metadata": {},
   "outputs": [
    {
     "data": {
      "text/plain": [
       "\"I'm here to help with information about AI-related topics. If you have any questions about artificial intelligence, feel free to ask!\""
      ]
     },
     "execution_count": 9,
     "metadata": {},
     "output_type": "execute_result"
    }
   ],
   "source": [
    "response = client.chat.completions.create(\n",
    "    model=ChatModelSelection.GPT4_1_MINI,\n",
    "    messages=[SYSTEM_PROMPT, {\"role\": \"user\", \"content\": \"Can you tell me what is the letest trend in Fashion\"}]\n",
    ")\n",
    "response.choices[0].message.content"
   ]
  },
  {
   "cell_type": "code",
   "execution_count": 10,
   "id": "12770616",
   "metadata": {},
   "outputs": [],
   "source": [
    "from cnlib.core.clients.openai.chat import AzureOpenAIChatClient\n",
    "from cnlib.core.clients.openai.catalog import APIVersion, ChatModelSelection\n"
   ]
  },
  {
   "cell_type": "code",
   "execution_count": 7,
   "id": "57fe10fc",
   "metadata": {},
   "outputs": [],
   "source": [
    "token = token_provider()"
   ]
  },
  {
   "cell_type": "code",
   "execution_count": 8,
   "id": "40bd0048",
   "metadata": {},
   "outputs": [
    {
     "data": {
      "text/plain": [
       "'eyJ0eXAiOiJKV1QiLCJhbGciOiJSUzI1NiIsIng1dCI6IkpZaEFjVFBNWl9MWDZEQmxPV1E3SG4wTmVYRSIsImtpZCI6IkpZaEFjVFBNWl9MWDZEQmxPV1E3SG4wTmVYRSJ9.eyJhdWQiOiJodHRwczovL2NvZ25pdGl2ZXNlcnZpY2VzLmF6dXJlLmNvbSIsImlzcyI6Imh0dHBzOi8vc3RzLndpbmRvd3MubmV0L2YzNWE2OTc0LTYwN2YtNDdkNC04MmQ3LWZmMzFkN2RjNTNhNS8iLCJpYXQiOjE3NTYyMjE1MjQsIm5iZiI6MTc1NjIyMTUyNCwiZXhwIjoxNzU2MjI1NDI0LCJhaW8iOiJrMlJnWUdDL3JmTGVjRWJwRXhiajVlZE9ibit4QUFBPSIsImFwcGlkIjoiOTIzZTQyNWQtODllMS00NGQ5LWEyODYtNmNkNDkwNjk5ODg2IiwiYXBwaWRhY3IiOiIyIiwiaWRwIjoiaHR0cHM6Ly9zdHMud2luZG93cy5uZXQvZjM1YTY5NzQtNjA3Zi00N2Q0LTgyZDctZmYzMWQ3ZGM1M2E1LyIsImlkdHlwIjoiYXBwIiwib2lkIjoiZGMxYjZkNzgtYmMwYy00OTI5LTg4OGItZmJlODU3YmIyZGQyIiwicmgiOiIxLkFSRUFkR2xhODM5ZzFFZUMxXzh4MTl4VHBaQWlNWDNJS0R4SG9PMk9VM1NiYlcwUkFBQVJBQS4iLCJzdWIiOiJkYzFiNmQ3OC1iYzBjLTQ5MjktODg4Yi1mYmU4NTdiYjJkZDIiLCJ0aWQiOiJmMzVhNjk3NC02MDdmLTQ3ZDQtODJkNy1mZjMxZDdkYzUzYTUiLCJ1dGkiOiJOTHgxUTdqR0QwS1FlRVpWV3JIV0FBIiwidmVyIjoiMS4wIiwieG1zX2Z0ZCI6Ikg5WEtrekFLQkRid2hKUjZzblVXNUJPOHkwaDZJWnQxRk53aWVSTFE5QnNCWlhWeWIzQmxkMlZ6ZEMxa2MyMXoiLCJ4bXNfaWRyZWwiOiI3IDE0IiwieG1zX3JkIjoiMC40MkxsWUJKaUZCUVM0V0FYRXRndmRHdGQ3OHNYcm12c2o4bk1QZG01QXlqS0tTVGdzdWZqaFMwZlVsejdXVXg2RGpYdWtBU0tjZ2dKVEZBeXJEMmhZZU8tNEcxZmNNbnMzRndBIn0.VRuTzqPrCeHdgnj6C3OIdUn8rV2wPp5727jD3DUWnpza5Ox6tW-oieFML2OOjSZWkdd3KqnIb0eSwF5AOsGnXukg-Yv1prClqWS6ExD5FvSCYbAY0IxApFc9iyvFy67prDuaSAa9Ii0ix2umqNjym_kh4MJkgqRXQd9U7SOmRZzPfXQIA6qZLzPaZDhZUUg46s6_Rdmo8GTdmVKFmQrptC8lf9ORmPmYlv7HXPWMkXvcRu6D4IZ2NJDKZTr1uIZlu4YYAzE-Or9889jH9YY0p_tzjnaEWtYOIdOT9bCiMYuKRj-vS0YUO_1SOD9usC93Oa8MA-v_Z7sdIzQjLZPqdA'"
      ]
     },
     "execution_count": 8,
     "metadata": {},
     "output_type": "execute_result"
    }
   ],
   "source": [
    "token"
   ]
  },
  {
   "cell_type": "code",
   "execution_count": 12,
   "id": "3459f0af",
   "metadata": {},
   "outputs": [],
   "source": [
    "client = AzureOpenAIChatClient(\n",
    "    model=ChatModelSelection.GPT4_1_MINI,\n",
    "    api_version=APIVersion.LATEST,\n",
    "    endpoint=settings.OPENAI_API_BASE,\n",
    "    azure_ad_token=token\n",
    ")"
   ]
  },
  {
   "cell_type": "code",
   "execution_count": 15,
   "id": "47790473",
   "metadata": {},
   "outputs": [
    {
     "data": {
      "text/plain": [
       "'I’m here to help with information about AI. If you have any questions related to artificial intelligence, feel free to ask!'"
      ]
     },
     "execution_count": 15,
     "metadata": {},
     "output_type": "execute_result"
    }
   ],
   "source": [
    "client.chat(messages=[SYSTEM_PROMPT, {\"role\": \"user\", \"content\": \"Can you tell me what is the letest trend in Fashion\"}])"
   ]
  },
  {
   "cell_type": "code",
   "execution_count": 16,
   "id": "d0744440",
   "metadata": {},
   "outputs": [
    {
     "data": {
      "text/plain": [
       "'I’m here to help with information about AI. If you have any questions about artificial intelligence, feel free to ask!'"
      ]
     },
     "execution_count": 16,
     "metadata": {},
     "output_type": "execute_result"
    }
   ],
   "source": [
    "await client.chat_async(messages=[SYSTEM_PROMPT, {\"role\": \"user\", \"content\": \"Can you tell me what is the letest trend in Fashion\"}])"
   ]
  },
  {
   "cell_type": "code",
   "execution_count": null,
   "id": "174dec34",
   "metadata": {},
   "outputs": [],
   "source": [
    "client."
   ]
  }
 ],
 "metadata": {
  "kernelspec": {
   "display_name": "cnp",
   "language": "python",
   "name": "python3"
  },
  "language_info": {
   "codemirror_mode": {
    "name": "ipython",
    "version": 3
   },
   "file_extension": ".py",
   "mimetype": "text/x-python",
   "name": "python",
   "nbconvert_exporter": "python",
   "pygments_lexer": "ipython3",
   "version": "3.13.5"
  }
 },
 "nbformat": 4,
 "nbformat_minor": 5
}
